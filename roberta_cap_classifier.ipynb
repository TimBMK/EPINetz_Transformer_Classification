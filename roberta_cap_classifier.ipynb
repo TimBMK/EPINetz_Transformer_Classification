{
 "cells": [
  {
   "cell_type": "markdown",
   "metadata": {},
   "source": [
    "# Run a Pre-Trained RoBERTa Model to Classify Tweets into Policy Areas"
   ]
  },
  {
   "cell_type": "markdown",
   "metadata": {},
   "source": [
    "We'll be using XLM-RoBERTa Models finetuned on Comparative Agendas Project Data to classify our Data\n",
    "\n",
    "Models were introduced in this paper: https://doi.org/10.1177/08944393241259434\n",
    "\n",
    "And are part of the CAP Babel Machine: https://capbabel.poltextlab.com/"
   ]
  },
  {
   "cell_type": "code",
   "execution_count": 1,
   "metadata": {},
   "outputs": [],
   "source": [
    "import pandas as pd\n",
    "import numpy as np\n",
    "import torch\n",
    "import re\n",
    "from transformers import AutoModelForSequenceClassification, AutoTokenizer"
   ]
  },
  {
   "cell_type": "code",
   "execution_count": 2,
   "metadata": {},
   "outputs": [
    {
     "name": "stdout",
     "output_type": "stream",
     "text": [
      "Cuda Found. Running on NVIDIA GeForce GTX 1060 6GB\n"
     ]
    }
   ],
   "source": [
    "# device setup\n",
    "if torch.cuda.is_available(): # CUDA is the preferred device\n",
    "    device = 'cuda:0'\n",
    "    print(f'Cuda Found. Running on {torch.cuda.get_device_name(0)}')\n",
    "else: \n",
    "    if torch.backends.mps.is_available(): # MPS backend for Mac\n",
    "        device = 'mps'\n",
    "        print('MPS Found. Running on MPS')\n",
    "    else: \n",
    "        device = 'cpu' # fallback to CPU computing\n",
    "        print('No GPU Found. Running on CPU')"
   ]
  },
  {
   "cell_type": "markdown",
   "metadata": {},
   "source": [
    "### Read in data, merge categories and drop uncoded entries"
   ]
  },
  {
   "cell_type": "code",
   "execution_count": 3,
   "metadata": {},
   "outputs": [
    {
     "data": {
      "text/html": [
       "<div>\n",
       "<style scoped>\n",
       "    .dataframe tbody tr th:only-of-type {\n",
       "        vertical-align: middle;\n",
       "    }\n",
       "\n",
       "    .dataframe tbody tr th {\n",
       "        vertical-align: top;\n",
       "    }\n",
       "\n",
       "    .dataframe thead th {\n",
       "        text-align: right;\n",
       "    }\n",
       "</style>\n",
       "<table border=\"1\" class=\"dataframe\">\n",
       "  <thead>\n",
       "    <tr style=\"text-align: right;\">\n",
       "      <th></th>\n",
       "      <th>_id</th>\n",
       "      <th>intercoder_sample</th>\n",
       "      <th>_source.text</th>\n",
       "      <th>label</th>\n",
       "    </tr>\n",
       "  </thead>\n",
       "  <tbody>\n",
       "    <tr>\n",
       "      <th>802</th>\n",
       "      <td>1623756907532910593</td>\n",
       "      <td>False</td>\n",
       "      <td>Das #Deutschlandticket ist ein richtiger Schri...</td>\n",
       "      <td>verkehr</td>\n",
       "    </tr>\n",
       "    <tr>\n",
       "      <th>806</th>\n",
       "      <td>1400799340021616640</td>\n",
       "      <td>False</td>\n",
       "      <td>Das Jobticket ist nun seit einem Monat am Star...</td>\n",
       "      <td>verkehr</td>\n",
       "    </tr>\n",
       "    <tr>\n",
       "      <th>825</th>\n",
       "      <td>1044258236663304193</td>\n",
       "      <td>False</td>\n",
       "      <td>Der Antrag zu einem Sozialticket für Bus und B...</td>\n",
       "      <td>verkehr</td>\n",
       "    </tr>\n",
       "    <tr>\n",
       "      <th>853</th>\n",
       "      <td>1483489042691940357</td>\n",
       "      <td>False</td>\n",
       "      <td>Die Stadt Leverkusen inkl. Oberbürgermeister u...</td>\n",
       "      <td>verkehr</td>\n",
       "    </tr>\n",
       "    <tr>\n",
       "      <th>866</th>\n",
       "      <td>1109875138516959234</td>\n",
       "      <td>False</td>\n",
       "      <td>Diese Kampagne bringt wohl mehr als die üblich...</td>\n",
       "      <td>verkehr</td>\n",
       "    </tr>\n",
       "    <tr>\n",
       "      <th>...</th>\n",
       "      <td>...</td>\n",
       "      <td>...</td>\n",
       "      <td>...</td>\n",
       "      <td>...</td>\n",
       "    </tr>\n",
       "    <tr>\n",
       "      <th>40770</th>\n",
       "      <td>1360263802294579201</td>\n",
       "      <td>True</td>\n",
       "      <td>Der #Unternehmerlohn für Kulturschaffende und ...</td>\n",
       "      <td>wirtschaft_finanzen</td>\n",
       "    </tr>\n",
       "    <tr>\n",
       "      <th>40774</th>\n",
       "      <td>1457645827078434818</td>\n",
       "      <td>True</td>\n",
       "      <td>Schätzungen gehen davon aus, dass jedes Jahr m...</td>\n",
       "      <td>wirtschaft_finanzen</td>\n",
       "    </tr>\n",
       "    <tr>\n",
       "      <th>40778</th>\n",
       "      <td>1522118401937793033</td>\n",
       "      <td>True</td>\n",
       "      <td>Eil: Gericht erklärt #Wirecard-Bilanzen für ni...</td>\n",
       "      <td>wirtschaft_finanzen</td>\n",
       "    </tr>\n",
       "    <tr>\n",
       "      <th>40779</th>\n",
       "      <td>1567473763280719872</td>\n",
       "      <td>True</td>\n",
       "      <td>Fraktionsvize @mueller_sepp stellt fest, für O...</td>\n",
       "      <td>wirtschaft_finanzen</td>\n",
       "    </tr>\n",
       "    <tr>\n",
       "      <th>40782</th>\n",
       "      <td>1636015510172172290</td>\n",
       "      <td>True</td>\n",
       "      <td>Der rotgrüne #KostenDoppelwums: 1 Deutsches Ve...</td>\n",
       "      <td>wirtschaft_finanzen</td>\n",
       "    </tr>\n",
       "  </tbody>\n",
       "</table>\n",
       "<p>820 rows × 4 columns</p>\n",
       "</div>"
      ],
      "text/plain": [
       "                       _id  intercoder_sample  \\\n",
       "802    1623756907532910593              False   \n",
       "806    1400799340021616640              False   \n",
       "825    1044258236663304193              False   \n",
       "853    1483489042691940357              False   \n",
       "866    1109875138516959234              False   \n",
       "...                    ...                ...   \n",
       "40770  1360263802294579201               True   \n",
       "40774  1457645827078434818               True   \n",
       "40778  1522118401937793033               True   \n",
       "40779  1567473763280719872               True   \n",
       "40782  1636015510172172290               True   \n",
       "\n",
       "                                            _source.text                label  \n",
       "802    Das #Deutschlandticket ist ein richtiger Schri...              verkehr  \n",
       "806    Das Jobticket ist nun seit einem Monat am Star...              verkehr  \n",
       "825    Der Antrag zu einem Sozialticket für Bus und B...              verkehr  \n",
       "853    Die Stadt Leverkusen inkl. Oberbürgermeister u...              verkehr  \n",
       "866    Diese Kampagne bringt wohl mehr als die üblich...              verkehr  \n",
       "...                                                  ...                  ...  \n",
       "40770  Der #Unternehmerlohn für Kulturschaffende und ...  wirtschaft_finanzen  \n",
       "40774  Schätzungen gehen davon aus, dass jedes Jahr m...  wirtschaft_finanzen  \n",
       "40778  Eil: Gericht erklärt #Wirecard-Bilanzen für ni...  wirtschaft_finanzen  \n",
       "40779  Fraktionsvize @mueller_sepp stellt fest, für O...  wirtschaft_finanzen  \n",
       "40782  Der rotgrüne #KostenDoppelwums: 1 Deutsches Ve...  wirtschaft_finanzen  \n",
       "\n",
       "[820 rows x 4 columns]"
      ]
     },
     "execution_count": 3,
     "metadata": {},
     "output_type": "execute_result"
    }
   ],
   "source": [
    "# read data\n",
    "data = pd.read_csv(\"CAP_sample_coded.tsv\", \n",
    "                   sep=\"\\t\", \n",
    "                     dtype={\"_id\": str} # _id column as string to avoid scientific notation\n",
    "                     )\n",
    "\n",
    "# we remove the categories \"wirtschaft\" (economy) and \"haushalt_finanzen\" (finance) in favor of the compound category \"wirtschaft_finanzen\"\n",
    "data = data.drop(columns=[\"wirtschaft\", \"haushalt_finanzen\"])\n",
    "# rename \"wirtschaft_finanzen_merge\" to \"wirtschaft_finanzen\"\n",
    "data = data.rename(columns={\"wirtschaft_finanzen_merge\": \"wirtschaft_finanzen\"})\n",
    "\n",
    "# pivot data to long format\n",
    "data_long = data.melt(id_vars=[\"_id\", \"intercoder_sample\", \"coder\", \"_source.text\"], \n",
    "                      var_name=\"label\")\n",
    "\n",
    "data_long = data_long[data_long.value == True] # only keep tweets labeled as a certain category (drop False values)\n",
    "\n",
    "# remove value and coder column\n",
    "data_long = data_long.drop(columns=[\"value\", \"coder\"])\n",
    "\n",
    "data_long"
   ]
  },
  {
   "cell_type": "code",
   "execution_count": 4,
   "metadata": {},
   "outputs": [
    {
     "data": {
      "text/plain": [
       "597"
      ]
     },
     "execution_count": 4,
     "metadata": {},
     "output_type": "execute_result"
    }
   ],
   "source": [
    "# nr of unique documents that are labeled. Note: not all document in the data had been labeled, hence the reduced number!\n",
    "data_long._id.nunique()"
   ]
  },
  {
   "cell_type": "code",
   "execution_count": 5,
   "metadata": {},
   "outputs": [
    {
     "data": {
      "text/plain": [
       "181"
      ]
     },
     "execution_count": 5,
     "metadata": {},
     "output_type": "execute_result"
    }
   ],
   "source": [
    "# get duplicated rows by _id (i.e. documents fitting multiple labels)\n",
    "multi_label = data_long[data_long.duplicated('_id', keep = False)]\n",
    "multi_label._id.nunique() # 181 out of 597 documents have more than one label"
   ]
  },
  {
   "cell_type": "markdown",
   "metadata": {},
   "source": [
    "### Prepare Dictionaries to translate transformer output, CAP categories and EPINetz coding"
   ]
  },
  {
   "cell_type": "code",
   "execution_count": 6,
   "metadata": {},
   "outputs": [],
   "source": [
    "CAP_NUM_DICT = {0: '1', 1: '2', 2: '3', 3: '4', 4: '5', 5: '6', # translates Model Output to CAP Major Policy Codes\n",
    "6: '7', 7: '8', 8: '9', 9: '10', 10: '12', 11: '13', 12: '14', \n",
    "13: '15', 14: '16', 15: '17', 16: '18', 17: '19', 18: '20', 19: \n",
    "'21', 20: '23', 21: '999'}\n",
    "\n",
    "num_labels = len(CAP_NUM_DICT)"
   ]
  },
  {
   "cell_type": "markdown",
   "metadata": {},
   "source": [
    "NOTE: The EPINetz Coding partly consists of compound categories uniting several sub-categories of the CAP Codebook (e.g. 1901 adn 1905 for \"entwicklung\" (developmental aid/cooperation) or 609, 1526 and 1707 for \"kultur_medien_sport\" (culture, media, sports)). However, the classifier only codes the major categories of the CAP (6, 15, 17, 19...). \n",
    "\n",
    "\n",
    "This means that we can \n",
    "\n",
    "a) only roughly recreate the EPINetz coding, as the minor categories are not coded\n",
    "\n",
    "b) the output for compound categories overlapping two or more major categories can be very unreliable\n",
    "\n",
    "\n",
    "Also note that the classifier's labels only got up to category 23, factually dropping categories 24 (State and Local Government Administration) and 25 (German Reunification). These were used in the EPINetz coding scheme for innere_sicherheit (domestic policy and security) (24) and gesellschaft (social issues) (25). These are dropped in the dictionary below.\n",
    "\n",
    "Additionally, the classifier (and the english CAP) contain category 23 (culture) not present in the German CAP/EPINetz codings. As the \"kultur_medien_sport\" category is dropped with its original codings, we can replace it with category 23. NOTE: when evaluating the results for this label, be aware that the coding schemes differ! This is done only to see potential overlap between the original EPINetz category and the automated \"culture\" coding.\n",
    "\n",
    "See below for compound categories."
   ]
  },
  {
   "cell_type": "code",
   "execution_count": 7,
   "metadata": {},
   "outputs": [],
   "source": [
    "epinetz_dict = {\n",
    "'verkehr':['10'], \n",
    "# 'entwicklung':[19], # falls into foreign policy for the classifier\n",
    "'gesellschaft':['2'], \n",
    "'innere_sicherheit':['12','20'],\n",
    "'verteidigung':['16'], \n",
    "'aeusseres':['18','19'], \n",
    "'digitalisierung_technik':['17'], \n",
    "'soziales':['12','13','14'],\n",
    "'umwelt':['7','21'], \n",
    "# 'europa':['19'], # falls into foreign policy for the classifier\n",
    "'arbeit':['5','9'], \n",
    "# 'kultur_medien_sport':['6','15','17'], # this cannot be sufficiently distinguished from other categories due to major topic overlap\n",
    "'kultur_medien_sport':['23'], # add the \"culture\" category from the english CAP (not present in the german CAP) instead. Consider results carefully!\n",
    "'gesundheit':['3'],\n",
    "'landwirtschaft_ernaehrung':['4'], \n",
    "'bildung_forschung':['6'], \n",
    "'wirtschaft_finanzen':['1','8','15'],\n",
    "'none':['999'],\n",
    "}"
   ]
  },
  {
   "cell_type": "markdown",
   "metadata": {},
   "source": [
    "Effectively, this makes the EPINetz categories \"entwicklung\" (developmental aid/cooperation), \"auesseres\" (foreign policy), and \"europa\" (european policy) one and the same for the classifier (CAP category 19: foreign affairs), losing all nuance between these three sub-topics. Furthermore, \"kultur_medien_sport\" overlaps with \"digitalisierung_technik\", \"wirtschaft_finanzen\" and \"bildung_forschung\", effectively dissolving it in the classification process."
   ]
  },
  {
   "cell_type": "markdown",
   "metadata": {},
   "source": [
    "NOTE: Major Policy Category 9 does not exist in the German CAP coding scheme, but is part of \"Labor, Employment and Immigration\" (5)"
   ]
  },
  {
   "cell_type": "markdown",
   "metadata": {},
   "source": [
    "## General German CAP Model\n",
    "\n",
    "https://huggingface.co/poltextlab/xlm-roberta-large-german-cap-v3"
   ]
  },
  {
   "cell_type": "code",
   "execution_count": 8,
   "metadata": {},
   "outputs": [
    {
     "name": "stderr",
     "output_type": "stream",
     "text": [
      "c:\\ProgramData\\miniconda3\\envs\\gesis_nlp\\Lib\\site-packages\\transformers\\tokenization_utils_base.py:1601: FutureWarning: `clean_up_tokenization_spaces` was not set. It will be set to `True` by default. This behavior will be depracted in transformers v4.45, and will be then set to `False` by default. For more details check this issue: https://github.com/huggingface/transformers/issues/31884\n",
      "  warnings.warn(\n"
     ]
    }
   ],
   "source": [
    "model = AutoModelForSequenceClassification.from_pretrained(\"poltextlab/xlm-roberta-large-german-cap-v3\")\n",
    "\n",
    "model.config.id2label = CAP_NUM_DICT # replace the labels with the CAP Major Policy Codes\n",
    "model.config.label2id = {value: key for key, value in CAP_NUM_DICT.items()} # same for the label2id (reversing the dictionary)\n",
    "\n",
    "tokenizer = AutoTokenizer.from_pretrained('xlm-roberta-large')\n",
    "\n"
   ]
  },
  {
   "cell_type": "code",
   "execution_count": 9,
   "metadata": {},
   "outputs": [
    {
     "name": "stdout",
     "output_type": "stream",
     "text": [
      "Was erleben die Teilnehmenden im Programm Berufsorientierung für Flüchtlinge – #BOF? Eine Gruppe junger Geflüchteter, die bei der Kreishandwerkerschaft Hersfeld-Rotenburg im Frühjahr und Sommer 2018 am Programm teilgenommen hat, erzählt: https://t.co/mjX0ldC1bJ https://t.co/OzXP8BnhMJ\n",
      "{'9': 0.64, '5': 0.19, '13': 0.07}\n"
     ]
    }
   ],
   "source": [
    "# test\n",
    "example = data_long[\"_source.text\"].iloc[100]\n",
    "\n",
    "inputs = tokenizer(example,\n",
    "                   return_tensors=\"pt\",\n",
    "                   max_length=512,\n",
    "                   padding=\"do_not_pad\",\n",
    "                   truncation=True\n",
    "                   )\n",
    "\n",
    "logits = model(**inputs).logits\n",
    "\n",
    "probs = torch.softmax(logits, dim=1).tolist()[0]\n",
    "probs = {model.config.id2label[index]: round(probability, 2) for index, probability in enumerate(probs)}\n",
    "top3_probs = dict(sorted(probs.items(), key=lambda item: item[1], reverse=True)[:3])\n",
    "\n",
    "print(example)\n",
    "\n",
    "print(top3_probs)"
   ]
  },
  {
   "cell_type": "code",
   "execution_count": 10,
   "metadata": {},
   "outputs": [
    {
     "data": {
      "text/html": [
       "<div>\n",
       "<style scoped>\n",
       "    .dataframe tbody tr th:only-of-type {\n",
       "        vertical-align: middle;\n",
       "    }\n",
       "\n",
       "    .dataframe tbody tr th {\n",
       "        vertical-align: top;\n",
       "    }\n",
       "\n",
       "    .dataframe thead th {\n",
       "        text-align: right;\n",
       "    }\n",
       "</style>\n",
       "<table border=\"1\" class=\"dataframe\">\n",
       "  <thead>\n",
       "    <tr style=\"text-align: right;\">\n",
       "      <th></th>\n",
       "      <th>label</th>\n",
       "      <th>probability</th>\n",
       "      <th>epinetz_label</th>\n",
       "    </tr>\n",
       "  </thead>\n",
       "  <tbody>\n",
       "    <tr>\n",
       "      <th>0</th>\n",
       "      <td>9</td>\n",
       "      <td>0.64</td>\n",
       "      <td>arbeit</td>\n",
       "    </tr>\n",
       "    <tr>\n",
       "      <th>1</th>\n",
       "      <td>5</td>\n",
       "      <td>0.19</td>\n",
       "      <td>arbeit</td>\n",
       "    </tr>\n",
       "    <tr>\n",
       "      <th>2</th>\n",
       "      <td>13</td>\n",
       "      <td>0.07</td>\n",
       "      <td>soziales</td>\n",
       "    </tr>\n",
       "  </tbody>\n",
       "</table>\n",
       "</div>"
      ],
      "text/plain": [
       "  label  probability epinetz_label\n",
       "0     9         0.64        arbeit\n",
       "1     5         0.19        arbeit\n",
       "2    13         0.07      soziales"
      ]
     },
     "execution_count": 10,
     "metadata": {},
     "output_type": "execute_result"
    }
   ],
   "source": [
    "#replace keys in top3_probs with keys from epinetz_dict\n",
    "test_df = pd.DataFrame(top3_probs, index=[0]).melt(var_name=\"label\", value_name=\"probability\")\n",
    "\n",
    "test_df['epinetz_label'] = test_df['label'].map({v: k for k, values in epinetz_dict.items() for v in values})\n",
    "\n",
    "test_df"
   ]
  },
  {
   "cell_type": "code",
   "execution_count": 11,
   "metadata": {},
   "outputs": [
    {
     "data": {
      "text/plain": [
       "epinetz_label\n",
       "arbeit      0.64\n",
       "soziales    0.07\n",
       "Name: probability, dtype: float64"
      ]
     },
     "execution_count": 11,
     "metadata": {},
     "output_type": "execute_result"
    }
   ],
   "source": [
    "# only get the highest probability for each epinetz_label\n",
    "test_df.groupby(\"epinetz_label\")[\"probability\"].max()"
   ]
  },
  {
   "cell_type": "code",
   "execution_count": 12,
   "metadata": {},
   "outputs": [
    {
     "data": {
      "text/plain": [
       "epinetz_label\n",
       "arbeit      0.83\n",
       "soziales    0.07\n",
       "Name: probability, dtype: float64"
      ]
     },
     "execution_count": 12,
     "metadata": {},
     "output_type": "execute_result"
    }
   ],
   "source": [
    "# sum probabilities of the same epinetz_label\n",
    "test_df.groupby(\"epinetz_label\")[\"probability\"].sum()"
   ]
  },
  {
   "cell_type": "code",
   "execution_count": 13,
   "metadata": {},
   "outputs": [],
   "source": [
    "from transformers import pipeline\n",
    "\n",
    "classifier = pipeline(task='text-classification', # make classifier pipeline\n",
    "                      device=device,\n",
    "                      model=model, \n",
    "                      tokenizer = tokenizer, \n",
    "                      top_k=None) # return scores for all labels"
   ]
  },
  {
   "cell_type": "code",
   "execution_count": 14,
   "metadata": {},
   "outputs": [
    {
     "data": {
      "text/plain": [
       "[[{'label': '9', 'score': 0.4536440074443817},\n",
       "  {'label': '5', 'score': 0.19488398730754852},\n",
       "  {'label': '13', 'score': 0.07830250263214111},\n",
       "  {'label': '2', 'score': 0.042280878871679306},\n",
       "  {'label': '6', 'score': 0.02598363161087036},\n",
       "  {'label': '12', 'score': 0.010741520673036575},\n",
       "  {'label': '16', 'score': 0.01043943502008915},\n",
       "  {'label': '1', 'score': 0.009801131673157215},\n",
       "  {'label': '20', 'score': 0.007032905705273151},\n",
       "  {'label': '23', 'score': 0.005228388123214245},\n",
       "  {'label': '15', 'score': 0.005092584528028965},\n",
       "  {'label': '19', 'score': 0.004952979739755392},\n",
       "  {'label': '14', 'score': 0.004859070759266615},\n",
       "  {'label': '3', 'score': 0.00278540444560349},\n",
       "  {'label': '4', 'score': 0.0019994177855551243},\n",
       "  {'label': '21', 'score': 0.0019581534434109926},\n",
       "  {'label': '18', 'score': 0.0019207140430808067},\n",
       "  {'label': '8', 'score': 0.0016826213104650378},\n",
       "  {'label': '17', 'score': 0.0016363554168492556},\n",
       "  {'label': '10', 'score': 0.0015441903378814459},\n",
       "  {'label': '7', 'score': 0.0011811914155259728},\n",
       "  {'label': '999', 'score': 4.6740318794036284e-05}]]"
      ]
     },
     "execution_count": 14,
     "metadata": {},
     "output_type": "execute_result"
    }
   ],
   "source": [
    "classifier(example, batch_size=32) \n",
    "# note that the returned probabilities differ slightly from the classification above - possibly due to a different softmax function"
   ]
  },
  {
   "cell_type": "code",
   "execution_count": 15,
   "metadata": {},
   "outputs": [],
   "source": [
    "pred = classifier(list(data_long[\"_source.text\"]), batch_size=32)"
   ]
  },
  {
   "cell_type": "code",
   "execution_count": 56,
   "metadata": {},
   "outputs": [
    {
     "data": {
      "text/html": [
       "<div>\n",
       "<style scoped>\n",
       "    .dataframe tbody tr th:only-of-type {\n",
       "        vertical-align: middle;\n",
       "    }\n",
       "\n",
       "    .dataframe tbody tr th {\n",
       "        vertical-align: top;\n",
       "    }\n",
       "\n",
       "    .dataframe thead th {\n",
       "        text-align: right;\n",
       "    }\n",
       "</style>\n",
       "<table border=\"1\" class=\"dataframe\">\n",
       "  <thead>\n",
       "    <tr style=\"text-align: right;\">\n",
       "      <th></th>\n",
       "      <th>_id</th>\n",
       "      <th>intercoder_sample</th>\n",
       "      <th>_source.text</th>\n",
       "      <th>label</th>\n",
       "      <th>pred_label</th>\n",
       "      <th>pred_score</th>\n",
       "      <th>pred_epinetz</th>\n",
       "      <th>pred_score_sum</th>\n",
       "    </tr>\n",
       "  </thead>\n",
       "  <tbody>\n",
       "    <tr>\n",
       "      <th>802</th>\n",
       "      <td>1623756907532910593</td>\n",
       "      <td>False</td>\n",
       "      <td>Das #Deutschlandticket ist ein richtiger Schri...</td>\n",
       "      <td>verkehr</td>\n",
       "      <td>10</td>\n",
       "      <td>0.951463</td>\n",
       "      <td>verkehr</td>\n",
       "      <td>0.951463</td>\n",
       "    </tr>\n",
       "    <tr>\n",
       "      <th>802</th>\n",
       "      <td>1623756907532910593</td>\n",
       "      <td>False</td>\n",
       "      <td>Das #Deutschlandticket ist ein richtiger Schri...</td>\n",
       "      <td>verkehr</td>\n",
       "      <td>20</td>\n",
       "      <td>0.017019</td>\n",
       "      <td>innere_sicherheit</td>\n",
       "      <td>0.017019</td>\n",
       "    </tr>\n",
       "    <tr>\n",
       "      <th>802</th>\n",
       "      <td>1623756907532910593</td>\n",
       "      <td>False</td>\n",
       "      <td>Das #Deutschlandticket ist ein richtiger Schri...</td>\n",
       "      <td>verkehr</td>\n",
       "      <td>1</td>\n",
       "      <td>0.009628</td>\n",
       "      <td>wirtschaft_finanzen</td>\n",
       "      <td>0.009628</td>\n",
       "    </tr>\n",
       "    <tr>\n",
       "      <th>802</th>\n",
       "      <td>1623756907532910593</td>\n",
       "      <td>False</td>\n",
       "      <td>Das #Deutschlandticket ist ein richtiger Schri...</td>\n",
       "      <td>verkehr</td>\n",
       "      <td>14</td>\n",
       "      <td>0.008808</td>\n",
       "      <td>soziales</td>\n",
       "      <td>0.008808</td>\n",
       "    </tr>\n",
       "    <tr>\n",
       "      <th>802</th>\n",
       "      <td>1623756907532910593</td>\n",
       "      <td>False</td>\n",
       "      <td>Das #Deutschlandticket ist ein richtiger Schri...</td>\n",
       "      <td>verkehr</td>\n",
       "      <td>2</td>\n",
       "      <td>0.008169</td>\n",
       "      <td>gesellschaft</td>\n",
       "      <td>0.008169</td>\n",
       "    </tr>\n",
       "    <tr>\n",
       "      <th>...</th>\n",
       "      <td>...</td>\n",
       "      <td>...</td>\n",
       "      <td>...</td>\n",
       "      <td>...</td>\n",
       "      <td>...</td>\n",
       "      <td>...</td>\n",
       "      <td>...</td>\n",
       "      <td>...</td>\n",
       "    </tr>\n",
       "    <tr>\n",
       "      <th>40782</th>\n",
       "      <td>1636015510172172290</td>\n",
       "      <td>True</td>\n",
       "      <td>Der rotgrüne #KostenDoppelwums: 1 Deutsches Ve...</td>\n",
       "      <td>wirtschaft_finanzen</td>\n",
       "      <td>16</td>\n",
       "      <td>0.004013</td>\n",
       "      <td>verteidigung</td>\n",
       "      <td>0.004013</td>\n",
       "    </tr>\n",
       "    <tr>\n",
       "      <th>40782</th>\n",
       "      <td>1636015510172172290</td>\n",
       "      <td>True</td>\n",
       "      <td>Der rotgrüne #KostenDoppelwums: 1 Deutsches Ve...</td>\n",
       "      <td>wirtschaft_finanzen</td>\n",
       "      <td>6</td>\n",
       "      <td>0.003951</td>\n",
       "      <td>bildung_forschung</td>\n",
       "      <td>0.003951</td>\n",
       "    </tr>\n",
       "    <tr>\n",
       "      <th>40782</th>\n",
       "      <td>1636015510172172290</td>\n",
       "      <td>True</td>\n",
       "      <td>Der rotgrüne #KostenDoppelwums: 1 Deutsches Ve...</td>\n",
       "      <td>wirtschaft_finanzen</td>\n",
       "      <td>4</td>\n",
       "      <td>0.003601</td>\n",
       "      <td>landwirtschaft_ernaehrung</td>\n",
       "      <td>0.003601</td>\n",
       "    </tr>\n",
       "    <tr>\n",
       "      <th>40782</th>\n",
       "      <td>1636015510172172290</td>\n",
       "      <td>True</td>\n",
       "      <td>Der rotgrüne #KostenDoppelwums: 1 Deutsches Ve...</td>\n",
       "      <td>wirtschaft_finanzen</td>\n",
       "      <td>23</td>\n",
       "      <td>0.002818</td>\n",
       "      <td>kultur_medien_sport</td>\n",
       "      <td>0.002818</td>\n",
       "    </tr>\n",
       "    <tr>\n",
       "      <th>40782</th>\n",
       "      <td>1636015510172172290</td>\n",
       "      <td>True</td>\n",
       "      <td>Der rotgrüne #KostenDoppelwums: 1 Deutsches Ve...</td>\n",
       "      <td>wirtschaft_finanzen</td>\n",
       "      <td>999</td>\n",
       "      <td>0.000067</td>\n",
       "      <td>none</td>\n",
       "      <td>0.000067</td>\n",
       "    </tr>\n",
       "  </tbody>\n",
       "</table>\n",
       "<p>12120 rows × 8 columns</p>\n",
       "</div>"
      ],
      "text/plain": [
       "                       _id  intercoder_sample  \\\n",
       "802    1623756907532910593              False   \n",
       "802    1623756907532910593              False   \n",
       "802    1623756907532910593              False   \n",
       "802    1623756907532910593              False   \n",
       "802    1623756907532910593              False   \n",
       "...                    ...                ...   \n",
       "40782  1636015510172172290               True   \n",
       "40782  1636015510172172290               True   \n",
       "40782  1636015510172172290               True   \n",
       "40782  1636015510172172290               True   \n",
       "40782  1636015510172172290               True   \n",
       "\n",
       "                                            _source.text                label  \\\n",
       "802    Das #Deutschlandticket ist ein richtiger Schri...              verkehr   \n",
       "802    Das #Deutschlandticket ist ein richtiger Schri...              verkehr   \n",
       "802    Das #Deutschlandticket ist ein richtiger Schri...              verkehr   \n",
       "802    Das #Deutschlandticket ist ein richtiger Schri...              verkehr   \n",
       "802    Das #Deutschlandticket ist ein richtiger Schri...              verkehr   \n",
       "...                                                  ...                  ...   \n",
       "40782  Der rotgrüne #KostenDoppelwums: 1 Deutsches Ve...  wirtschaft_finanzen   \n",
       "40782  Der rotgrüne #KostenDoppelwums: 1 Deutsches Ve...  wirtschaft_finanzen   \n",
       "40782  Der rotgrüne #KostenDoppelwums: 1 Deutsches Ve...  wirtschaft_finanzen   \n",
       "40782  Der rotgrüne #KostenDoppelwums: 1 Deutsches Ve...  wirtschaft_finanzen   \n",
       "40782  Der rotgrüne #KostenDoppelwums: 1 Deutsches Ve...  wirtschaft_finanzen   \n",
       "\n",
       "      pred_label  pred_score               pred_epinetz  pred_score_sum  \n",
       "802           10    0.951463                    verkehr        0.951463  \n",
       "802           20    0.017019          innere_sicherheit        0.017019  \n",
       "802            1    0.009628        wirtschaft_finanzen        0.009628  \n",
       "802           14    0.008808                   soziales        0.008808  \n",
       "802            2    0.008169               gesellschaft        0.008169  \n",
       "...          ...         ...                        ...             ...  \n",
       "40782         16    0.004013               verteidigung        0.004013  \n",
       "40782          6    0.003951          bildung_forschung        0.003951  \n",
       "40782          4    0.003601  landwirtschaft_ernaehrung        0.003601  \n",
       "40782         23    0.002818        kultur_medien_sport        0.002818  \n",
       "40782        999    0.000067                       none        0.000067  \n",
       "\n",
       "[12120 rows x 8 columns]"
      ]
     },
     "execution_count": 56,
     "metadata": {},
     "output_type": "execute_result"
    }
   ],
   "source": [
    "data_pred = data_long.copy()\n",
    "\n",
    "data_pred[\"pred\"] = pred\n",
    "\n",
    "# unnest the data\n",
    "data_pred = data_pred.explode(\"pred\")\n",
    "\n",
    "data_pred['pred_label'] = data_pred['pred'].apply(lambda x: x['label'])\n",
    "data_pred['pred_score'] = data_pred['pred'].apply(lambda x: x['score'])\n",
    "\n",
    "data_pred = data_pred.drop(columns=['pred'])\n",
    "\n",
    "# add EPINetz labels\n",
    "data_pred['pred_epinetz'] = data_pred['pred_label'].map({v: k for k, values in epinetz_dict.items() for v in values}) \n",
    "\n",
    "# replace ground truth labels \"entwicklung\" and \"europa\" with \"aeusseres\" (as per coding scheme adjustments above)\n",
    "data_pred['label'] = data_pred['label'].replace({'entwicklung':'aeusseres', 'europa':'aeusseres'})\n",
    "\n",
    "data_pred = data_pred.drop_duplicates(subset=['_id','label', 'pred_epinetz']) # drop the duplicates introduced by the label adjustments (multiple \"aeusseres\" labels on one document)\n",
    "\n",
    "# sum probabilities of the same epinetz_label (that is, for the different CAP categories making up some of the EPINetz categories)\n",
    "data_pred['pred_score_sum'] = data_pred.groupby(['_id','label','pred_epinetz'])['pred_score'].transform('sum')\n",
    "\n",
    "data_pred"
   ]
  },
  {
   "cell_type": "code",
   "execution_count": 58,
   "metadata": {},
   "outputs": [
    {
     "data": {
      "text/plain": [
       "597"
      ]
     },
     "execution_count": 58,
     "metadata": {},
     "output_type": "execute_result"
    }
   ],
   "source": [
    "data_pred._id.nunique() # double check we did not lose any documents in the wrangling"
   ]
  },
  {
   "cell_type": "code",
   "execution_count": 98,
   "metadata": {},
   "outputs": [
    {
     "data": {
      "image/png": "[encoded data removed]",
      "text/plain": [
       "<Figure size 640x480 with 1 Axes>"
      ]
     },
     "metadata": {},
     "output_type": "display_data"
    }
   ],
   "source": [
    "import seaborn as sns\n",
    "sns.set_style(\"whitegrid\") # plot style\n",
    "\n",
    "# for each _id, get the rows where label and pred_epinetz are equal, then visualize the pred_score_sum\n",
    "data_pred_vis = data_pred[data_pred['label'] == data_pred['pred_epinetz']]\n",
    "\n",
    "boxplot = sns.boxplot(data=data_pred_vis, \n",
    "                      y ='pred_score_sum', \n",
    "                      x = 'label',\n",
    "                      fill=True)\n",
    "\n",
    "boxplot.tick_params(axis='x', rotation=90)"
   ]
  },
  {
   "cell_type": "markdown",
   "metadata": {},
   "source": [
    "This does not look good. Only for \"verkehr\" (Transportation Policy) and \"verteidigung\" (Defense) we have a median above 0.6. The majority of EPINetz categories has a median below 0.5 - that is, a coin toss would do better in classifying the documents into these categories. The \"culture\" category replaced by the CAP coding in the model is especially bad, but this was to be expected."
   ]
  },
  {
   "cell_type": "code",
   "execution_count": 109,
   "metadata": {},
   "outputs": [
    {
     "data": {
      "text/plain": [
       "<Axes: xlabel='pred_epinetz', ylabel='label'>"
      ]
     },
     "execution_count": 109,
     "metadata": {},
     "output_type": "execute_result"
    },
    {
     "data": {
      "image/png": "[encoded data removed]",
      "text/plain": [
       "<Figure size 640x480 with 2 Axes>"
      ]
     },
     "metadata": {},
     "output_type": "display_data"
    }
   ],
   "source": [
    "# make a heatmap for the overlap between the ground truth and the predicted labels\n",
    "data_pred_heat = data_pred.groupby(['label', 'pred_epinetz'])['pred_score'].median().reset_index().pivot(index='label', columns='pred_epinetz', values='pred_score').fillna(0)\n",
    "\n",
    "sns.heatmap(data_pred_heat, annot=False, fmt=\".2f\", cmap=\"rocket_r\")\n"
   ]
  },
  {
   "cell_type": "markdown",
   "metadata": {},
   "source": [
    "This shows, again, that most categories are ill predicted (we are plotting the median prediction values for each category pair here). We can see a slight, but unsurprising overlap between Defence and Foreign Policy (that is, one category may be mistaken for the other). There is also overlap between none and domestic policy, which is more concerning for the classification process."
   ]
  }
 ],
 "metadata": {
  "kernelspec": {
   "display_name": "gesis_nlp",
   "language": "python",
   "name": "python3"
  },
  "language_info": {
   "codemirror_mode": {
    "name": "ipython",
    "version": 3
   },
   "file_extension": ".py",
   "mimetype": "text/x-python",
   "name": "python",
   "nbconvert_exporter": "python",
   "pygments_lexer": "ipython3",
   "version": "3.12.5"
  }
 },
 "nbformat": 4,
 "nbformat_minor": 2
}
